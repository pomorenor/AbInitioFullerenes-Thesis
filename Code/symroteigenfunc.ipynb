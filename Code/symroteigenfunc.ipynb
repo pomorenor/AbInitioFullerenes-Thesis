{
 "cells": [
  {
   "cell_type": "code",
   "execution_count": 16,
   "metadata": {},
   "outputs": [],
   "source": [
    "from sympy.physics.quantum.spin import Rotation\n",
    "from sympy.physics.wigner import wigner_d\n",
    "from sympy import pi\n",
    "from sympy import Symbol \n",
    "from sympy import pprint\n",
    "\n",
    "\n",
    "theta = Symbol('theta')\n",
    "phi = Symbol('phi')\n",
    "chi = Symbol('chi')\n",
    "\n",
    "#rot = Rotation.D(1,0,0,theta,phi,chi)\n",
    "#rot.doit()\n",
    "\n",
    "fullrot = wigner_d(1,theta,phi,chi)\n"
   ]
  },
  {
   "cell_type": "code",
   "execution_count": 116,
   "metadata": {},
   "outputs": [
    {
     "name": "stdout",
     "output_type": "stream",
     "text": [
      "                          ⎛  2     2     2⎞ \n",
      "                       -γ⋅⎝Q₁  + Q₂  + Q₃ ⎠ \n",
      "                       ─────────────────────\n",
      "        ⎛    2      ⎞            2          \n",
      "4⋅Q₃⋅√γ⋅⎝2⋅Q₃ ⋅γ - 3⎠⋅ℯ                     \n"
     ]
    }
   ],
   "source": [
    "from sympy.physics.quantum.spin import Rotation\n",
    "from sympy.physics.wigner import wigner_d\n",
    "from sympy import pi\n",
    "from sympy import Symbol\n",
    "from sympy import pprint\n",
    "from sympy import hermite, diff\n",
    "from sympy import sqrt, Pow, Rational, exp, simplify \n",
    "import sympy.printing as printing\n",
    "\n",
    "Q1 = Symbol('Q_1')\n",
    "Q2 = Symbol('Q_2')\n",
    "Q3 = Symbol('Q_3')\n",
    "\n",
    "v1 = Symbol('v_1')\n",
    "v2 = Symbol('v_2')\n",
    "v3 = Symbol('v_3')\n",
    "\n",
    "lambda1 = Symbol('lambda_1')\n",
    "lambda2 = Symbol('lambda_2')\n",
    "lambda3 = Symbol('lambda_3')\n",
    "\n",
    "v = [v1,v2,v3]\n",
    "Q = [Q1,Q2,Q3]\n",
    "lambdas = [lambda1, lambda2, lambda3]\n",
    "\n",
    "gamma = Symbol('gamma')\n",
    "normalizevib = Symbol('N')\n",
    "hbar = Symbol('hbar')\n",
    "\n",
    "def VibrationalEigenFunc(v,lambdas,Q):\n",
    "    \n",
    "    product = 1\n",
    "    productexp = 1\n",
    "    \n",
    "    for i,j,k in zip(v,lambdas,Q):\n",
    "      #  gamma = pow(j,0.5)/hbar\n",
    "        product *= hermite(i,sqrt(gamma)*k)\n",
    "        productexp *= exp(-(gamma*k**2)/2)\n",
    "    \n",
    "    return product*simplify(productexp) \n",
    "\n",
    "\n",
    "\n",
    "pprint(simplify(VibrationalEigenFunc([0,0,3],[lambda1,lambda2,lambda3],[Q1,Q2,Q3])))\n",
    "\n",
    "\n"
   ]
  },
  {
   "cell_type": "code",
   "execution_count": null,
   "metadata": {},
   "outputs": [],
   "source": []
  },
  {
   "cell_type": "code",
   "execution_count": null,
   "metadata": {},
   "outputs": [],
   "source": []
  }
 ],
 "metadata": {
  "kernelspec": {
   "display_name": "Python 3",
   "language": "python",
   "name": "python3"
  },
  "language_info": {
   "codemirror_mode": {
    "name": "ipython",
    "version": 3
   },
   "file_extension": ".py",
   "mimetype": "text/x-python",
   "name": "python",
   "nbconvert_exporter": "python",
   "pygments_lexer": "ipython3",
   "version": "3.8.10"
  }
 },
 "nbformat": 4,
 "nbformat_minor": 4
}
