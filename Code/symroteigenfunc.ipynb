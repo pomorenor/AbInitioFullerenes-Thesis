{
 "cells": [
  {
   "cell_type": "code",
   "execution_count": 12,
   "metadata": {},
   "outputs": [
    {
     "data": {
      "text/latex": [
       "$\\displaystyle \\cos{\\left(\\phi \\right)}$"
      ],
      "text/plain": [
       "cos(phi)"
      ]
     },
     "execution_count": 12,
     "metadata": {},
     "output_type": "execute_result"
    }
   ],
   "source": [
    "from sympy.physics.quantum.spin import Rotation\n",
    "from sympy.physics.wigner import wigner_d\n",
    "from sympy import pi\n",
    "from sympy import Symbol \n",
    "from sympy import pprint\n",
    "\n",
    "theta = Symbol('theta')\n",
    "phi = Symbol('phi')\n",
    "chi = Symbol('chi')\n",
    "\n",
    "rot = Rotation.D(1,0,0,theta,phi,chi)\n",
    "rot.doit()\n",
    "\n",
    "#fullrot = wigner_d(7,theta,phi,chi)\n",
    "#fullrot.doit()"
   ]
  },
  {
   "cell_type": "code",
   "execution_count": null,
   "metadata": {},
   "outputs": [],
   "source": []
  }
 ],
 "metadata": {
  "kernelspec": {
   "display_name": "Python 3",
   "language": "python",
   "name": "python3"
  },
  "language_info": {
   "codemirror_mode": {
    "name": "ipython",
    "version": 3
   },
   "file_extension": ".py",
   "mimetype": "text/x-python",
   "name": "python",
   "nbconvert_exporter": "python",
   "pygments_lexer": "ipython3",
   "version": "3.8.10"
  }
 },
 "nbformat": 4,
 "nbformat_minor": 4
}
